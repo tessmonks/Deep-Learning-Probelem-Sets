{
 "cells": [
  {
   "cell_type": "markdown",
   "id": "cb361c62",
   "metadata": {},
   "source": [
    "### Weight Initialization\n",
    "\n",
    "Working with keras to test that a glorot normal distribution is superior to a random distribution"
   ]
  },
  {
   "cell_type": "code",
   "execution_count": 1,
   "id": "cd79ea22",
   "metadata": {},
   "outputs": [],
   "source": [
    "# import dependencies\n",
    "import numpy as np\n",
    "import matplotlib.pyplot as plt\n",
    "from keras import Sequential\n",
    "from keras.layers import Dense, Activation\n",
    "from keras.initializers import Zeros, RandomNormal\n",
    "from keras.initializers import glorot_normal, glorot_uniform"
   ]
  },
  {
   "cell_type": "code",
   "execution_count": 2,
   "id": "06080b7c",
   "metadata": {},
   "outputs": [],
   "source": [
    "# simulate 784 pixel values as inputs to a single dense layer of neurons\n",
    "# 256 neurons in the layer \n",
    "n_input = 784\n",
    "n_dense = 256"
   ]
  },
  {
   "cell_type": "code",
   "execution_count": 3,
   "id": "08a76aab",
   "metadata": {},
   "outputs": [],
   "source": [
    "# parameter values of zero imply weakest opinion on how x is related to y, aka no training\n",
    "# need to start from a balanced and learnable beginning of bias = 0\n",
    "b_init = Zeros()"
   ]
  },
  {
   "cell_type": "code",
   "execution_count": 4,
   "id": "eb2f3fe1",
   "metadata": {},
   "outputs": [],
   "source": [
    "# get random numbers around 0 from a normal distribution for the weights to start\n",
    "w_init = RandomNormal(stddev=1.0)"
   ]
  },
  {
   "cell_type": "code",
   "execution_count": 11,
   "id": "9edbe9af",
   "metadata": {},
   "outputs": [],
   "source": [
    "# architecture for a single dense layer of sigmoid neurons\n",
    "model = Sequential()\n",
    "model.add(Dense(n_dense,\n",
    "               input_dim=n_input,\n",
    "               kernel_initializer=w_init,\n",
    "               bias_initializer=b_init))\n",
    "model.add(Activation('sigmoid'))"
   ]
  },
  {
   "cell_type": "code",
   "execution_count": 12,
   "id": "1ac5b595",
   "metadata": {},
   "outputs": [],
   "source": [
    "# use the NumPy random() method to generate 784 pizel values\n",
    "x = np.random.random((1, n_input))"
   ]
  },
  {
   "cell_type": "code",
   "execution_count": 13,
   "id": "63101062",
   "metadata": {},
   "outputs": [],
   "source": [
    "# use the predict method to forward propogate through the layer and output the activation:\n",
    "a = model.predict(x)"
   ]
  },
  {
   "cell_type": "code",
   "execution_count": 14,
   "id": "81645d85",
   "metadata": {},
   "outputs": [
    {
     "data": {
      "image/png": "[encoded data removed]",
      "text/plain": [
       "<Figure size 432x288 with 1 Axes>"
      ]
     },
     "metadata": {
      "needs_background": "light"
     },
     "output_type": "display_data"
    }
   ],
   "source": [
    "# use a histogram to visualize the activations\n",
    "_ = plt.hist(np.transpose(a))"
   ]
  },
  {
   "cell_type": "code",
   "execution_count": 10,
   "id": "826d7307",
   "metadata": {},
   "outputs": [],
   "source": [
    "# Glorot distribution lead to neurons outputting small z values \n",
    "w_init = glorot_normal()"
   ]
  },
  {
   "cell_type": "code",
   "execution_count": null,
   "id": "6cffdf39",
   "metadata": {},
   "outputs": [],
   "source": []
  },
  {
   "cell_type": "code",
   "execution_count": null,
   "id": "67073cb5",
   "metadata": {},
   "outputs": [],
   "source": []
  }
 ],
 "metadata": {
  "kernelspec": {
   "display_name": "Python 3 (ipykernel)",
   "language": "python",
   "name": "python3"
  },
  "language_info": {
   "codemirror_mode": {
    "name": "ipython",
    "version": 3
   },
   "file_extension": ".py",
   "mimetype": "text/x-python",
   "name": "python",
   "nbconvert_exporter": "python",
   "pygments_lexer": "ipython3",
   "version": "3.7.4"
  }
 },
 "nbformat": 4,
 "nbformat_minor": 5
}
